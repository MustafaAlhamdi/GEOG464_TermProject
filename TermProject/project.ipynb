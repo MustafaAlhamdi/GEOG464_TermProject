{
 "cells": [
  {
   "cell_type": "code",
   "execution_count": null,
   "metadata": {
    "id": "67VwORjxuzBJ",
    "tags": []
   },
   "outputs": [],
   "source": [
    "!pip install contextily\n",
    "!pip install geopandas\n",
    "!pip install folium matplotlib mapclassify"
   ]
  },
  {
   "cell_type": "code",
   "execution_count": null,
   "metadata": {
    "id": "mXomE3KksfTB",
    "tags": []
   },
   "outputs": [],
   "source": [
  
   ]
  },
  {
   "cell_type": "markdown",
   "metadata": {
    "id": "lVuJwvsHuZmX"
   },
   "source": [
    "# New Section"
   ]
  },
  {
   "cell_type": "code",
   "execution_count": null,
   "metadata": {
    "colab": {
     "base_uri": "https://localhost:8080/"
    },
    "id": "LdLbD8YPNl7e",
    "outputId": "7292f6bd-53d6-4a8e-8dc5-95370ac762a9",
    "tags": []
   },
   "outputs": [],
   "source": [
    "\n"
   ]
  },
  {
   "cell_type": "code",
   "execution_count": null,
   "metadata": {
    "id": "3tDBLla4jsk7",
    "tags": []
   },
   "outputs": [],
   "source": [
    "from typing import Optional\n",
    "import pandas as pd\n",
    "import geopandas as gpd\n",
    "import matplotlib.pyplot as plt\n",
    "import folium\n",
    "\n",
    "# from vizLib import read_data, merge_dataframes, generate_population_map\n",
    "# from vizLib import *\n",
    "from TermProject.vizLib.vizLib import *\n",
    "from TermProject.vizLib.utils import *"
   ]
  },
  {
   "cell_type": "code",
   "execution_count": null,
   "metadata": {
    "id": "T2gWM-9rsHfe"
   },
   "outputs": [],
   "source": [
    "\n"
   ]
  },
  {
   "cell_type": "code",
   "execution_count": null,
   "metadata": {
    "id": "Qxc438ELsPhr",
    "tags": []
   },
   "outputs": [],
   "source": [
    "gdf, demo_data = read_data('TermProject/lda_000b16a_e.shp', 'TermProject/project_data.csv', 'TermProject/project_header.txt', ' - ', 0)\n",
    "\n",
    "population = demo_data[['GEO UID', 'Population, 2016','Total-Private households','Population density per square kilometre','Total_percent_pop_65', 'Total_percent_pop_0_14', 'Total_percent_pop_15_64', 'Average age of the population']].iloc[1:].copy()\n",
    "population.rename(columns={'GEO UID': 'DAUID'}, inplace= True)\n",
    "\n",
    "languages = demo_data[['GEO UID', 'Population, 2016','Total_knowledge_languages','Total_knowledge_eng','Total_knowledge_fre', 'Total_knowledge_fre_eng', 'Total_knowledge_none', 'Mother Tongue_Total', 'Mother Tongue_non_official_lang','Mother Tongue_official_lang']].iloc[1:].copy()\n",
    "languages.rename(columns={'GEO UID': 'DAUID', 'Total_knowledge_none': 'Total_knowledge_none', 'Mother Tongue_Total': 'Mother_tongue_Total', 'Mother Tongue_non_official_lang': 'Mother_tongue_non_official_lang','Mother Tongue_official_lang': 'Mother_tongue_official_lang'}, inplace=True)\n",
    "\n",
    "diversity = demo_data[['GEO UID', 'birth_total', 'birth_Americas', 'birth_Europe', 'birth_Africa',\n",
    "       'birth_Asia', 'birth_Oceania_and_other']].iloc[1:].copy()\n",
    "diversity.rename(columns={'GEO UID': 'DAUID', 'Population, 2016': 'population'}, inplace= True)\n",
    "\n",
    "population['age dependency ratio'] = (population['Total_percent_pop_0_14'] + population['Total_percent_pop_65'])/population['Total_percent_pop_15_64']\n",
    "\n",
    "gdf['DAUID'] = gdf['DAUID'].astype('int')\n",
    "merged_population = merge_dataframes(df1=gdf, df2=population, common_column='DAUID',filter_column1= 'CDNAME', filter_value1= 'Montréal')\n",
    "merged_languages = merge_dataframes(df1=gdf, df2=languages, common_column='DAUID',filter_column1= 'CDNAME', filter_value1= 'Montréal')\n",
    "merged_diversity = merge_dataframes(df1=gdf, df2=diversity, common_column='DAUID',filter_column1= 'CDNAME', filter_value1= 'Montréal')\n",
    "\n"
   ]
  },
  {
   "cell_type": "code",
   "execution_count": null,
   "metadata": {
    "id": "NZfP7Bsj1Iw0",
    "tags": []
   },
   "outputs": [],
   "source": [
    "columns = {\n",
    "    'Average age of the population': 'Average age of the population',\n",
    "    'Total_percent_pop_65': 'Total_percent_pop_65',\n",
    "    'Total_percent_pop_15_64': 'Total_percent_pop_15_64',\n",
    "    'age dependency ratio': 'age dependency ratio'\n",
    "}\n",
    "\n",
    "generate_population_choropleth(merged_population, columns)"
   ]
  },
  {
   "cell_type": "code",
   "execution_count": null,
   "metadata": {
    "id": "SS4v9CXX1O6T",
    "tags": []
   },
   "outputs": [],
   "source": [
    "\n",
    "# specify dictionary mapping column names to the required keys\n",
    "col_dict = {\n",
    "    \"Total_knowledge_eng\": \"Total_knowledge_eng\",\n",
    "    \"Total_knowledge_fre\": \"Total_knowledge_fre\",\n",
    "    \"Total_knowledge_fre_eng\": \"Total_knowledge_fre_eng\",\n",
    "    \"Total_knowledge_none\": \"Total_knowledge_none\",\n",
    "    \"Total_knowledge_languages\": \"Total_knowledge_languages\",\n",
    "    \"Mother_tongue_official_lang\": \"Mother_tongue_official_lang\",\n",
    "    \"Mother_tongue_non_official_lang\": \"Mother_tongue_non_official_lang\",\n",
    "    \"Mother_tongue_Total\": \"Mother_tongue_Total\",\n",
    "}\n",
    "\n",
    "# call function with dataframe and column dictionary\n",
    "merged_languages = calculate_language_ratios(merged_languages, col_dict)\n",
    "\n",
    "\n",
    "columns = {\n",
    "    'Population who know English': 'ratio_eng',\n",
    "    'Population who know French': 'ratio_fre',\n",
    "    'Population who know both English and French': 'ratio_both',\n",
    "    'Population who know neither English nor French': 'ratio_none'\n",
    "}\n",
    "plot_language_choropleth(merged_languages, columns)"
   ]
  },
  {
   "cell_type": "code",
   "execution_count": null,
   "metadata": {
    "id": "8k-Z4paw1XPE",
    "tags": []
   },
   "outputs": [],
   "source": [
    "cols_to_plot = {\n",
    "    'Ratio - Population with Official Language as mother tongue': 'ratio_mother_off',\n",
    "    'Ratio - Population with Un-official Language as mother tongue': 'ratio_mother_unoff'\n",
    "}\n",
    "\n",
    "plot_mother_tongue_ratio(merged_languages, cols_to_plot)\n"
   ]
  },
  {
   "cell_type": "code",
   "execution_count": null,
   "metadata": {
    "id": "Qc_rwPTD1aNE",
    "tags": []
   },
   "outputs": [],
   "source": [
    "display(generate_population_map(merged_population))"
   ]
  },
  {
   "cell_type": "code",
   "execution_count": null,
   "metadata": {
    "id": "q_BzHpGssdzT",
    "tags": []
   },
   "outputs": [],
   "source": [
    "education = demo_data[['GEO UID', 'Population, 2016','total_education', 'total_no_certificate', 'total_secondary','total_post_secondary', 'total_education_24_65','total_no_certificate_24_65', 'total_secondary_24_65','total_post_secondar_24_65']].iloc[1:].copy()\n",
    "education.rename(columns={'GEO UID': 'DAUID', 'Population, 2016': 'population'}, inplace= True)\n",
    "\n",
    "\n",
    "highest_ratio, dauid_with_highest_ratio, education_level_with_highest_ratio = get_highest_education_ratio(\n",
    "    education, 'population', 'total_post_secondar_24_65')\n",
    "print('Highest ratio:', highest_ratio)\n",
    "print('DAUID with highest ratio:', dauid_with_highest_ratio)\n",
    "print('Education level with highest ratio:', education_level_with_highest_ratio)\n",
    "\n",
    "\n",
    "merged_education = merge_dataframes(df1=gdf, df2=education, common_column='DAUID',filter_column1= 'CDNAME', filter_value1= 'Montréal')\n",
    "\n",
    "map = create_education_levels_map(merged_education, 'total_no_certificate', 'total_secondary', 'total_post_secondary', 'population')\n",
    "display(map)"
   ]
  },
  {
   "cell_type": "code",
   "execution_count": null,
   "metadata": {
    "id": "7yxh29s5xgBH",
    "tags": []
   },
   "outputs": [],
   "source": [
    "display(plot_birth_density_maps(merged_diversity))"
   ]
  },
  {
   "cell_type": "code",
   "execution_count": null,
   "metadata": {},
   "outputs": [],
   "source": []
  }
 ],
 "metadata": {
  "colab": {
   "provenance": []
  },
  "kernelspec": {
   "display_name": "Python 3 (ipykernel)",
   "language": "python",
   "name": "python3"
  },
  "language_info": {
   "codemirror_mode": {
    "name": "ipython",
    "version": 3
   },
   "file_extension": ".py",
   "mimetype": "text/x-python",
   "name": "python",
   "nbconvert_exporter": "python",
   "pygments_lexer": "ipython3",
   "version": "3.11.1"
  }
 },
 "nbformat": 4,
 "nbformat_minor": 4
}
